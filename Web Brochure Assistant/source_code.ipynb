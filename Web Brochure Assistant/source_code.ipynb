{
 "cells": [
  {
   "cell_type": "code",
   "execution_count": 204,
   "id": "4fb1181f-c2b1-4529-bdf4-9ff4484890d4",
   "metadata": {},
   "outputs": [],
   "source": [
    "# Import the libraries \n",
    "from openai import OpenAI\n",
    "import os \n",
    "from dotenv import load_dotenv \n",
    "import requests\n",
    "from bs4 import BeautifulSoup \n",
    "import json \n",
    "from IPython.display import Markdown, display, update_display\n"
   ]
  },
  {
   "cell_type": "code",
   "execution_count": 18,
   "id": "243d8740-3ca9-46dd-860a-96e557dcb559",
   "metadata": {},
   "outputs": [],
   "source": [
    "# Set up the environment \n",
    "load_dotenv(override = True)\n",
    "api_key = os.getenv('OPENAI_API_KEY')\n",
    "\n",
    "# Define the model \n",
    "MODEL = 'gpt-4o-mini'\n",
    "openai = OpenAI()"
   ]
  },
  {
   "cell_type": "code",
   "execution_count": 183,
   "id": "00c42630-3d0a-4b44-a54d-93f31cc800a7",
   "metadata": {},
   "outputs": [],
   "source": [
    "# A class to represent a Webpage\n",
    "\n",
    "# Some websites need you to use proper headers when fetching them:\n",
    "headers = {\n",
    " \"User-Agent\": \"Mozilla/5.0 (Windows NT 10.0; Win64; x64) AppleWebKit/537.36 (KHTML, like Gecko) Chrome/117.0.0.0 Safari/537.36\"\n",
    "}\n",
    "\n",
    "class Website:\n",
    "    \"\"\"\n",
    "    A utility class to represent a Website that we have scraped, now with links\n",
    "    \"\"\"\n",
    "    def __init__(self, url):\n",
    "        self.url = url\n",
    "        response = requests.get(url, headers=headers)\n",
    "        self.body = response.content\n",
    "        soup = BeautifulSoup(self.body, 'html.parser')\n",
    "        self.title = soup.title.string if soup.title else \"No title found\"\n",
    "        if soup.body:\n",
    "            for irrelevant in soup.body([\"script\", \"style\", \"img\", \"input\"]):\n",
    "                irrelevant.decompose()\n",
    "            self.text = soup.body.get_text(separator=\"\\n\", strip=True)\n",
    "        else:\n",
    "            self.text = \"\"\n",
    "        links = [link.get('href') for link in soup.find_all('a')]\n",
    "        self.links = [link for link in links if link]\n",
    "\n",
    "    def get_contents(self):\n",
    "        return f\"Webpage Title:\\n{self.title}\\nWebpage Contents:\\n{self.text}\\n\\n\"\n",
    "# Example usage \n",
    "link = 'https://www.bbc.com'\n",
    "Web = Website(link) \n",
    "#print(Web.title) \n",
    "#print(Web.text) \n",
    "#print(Web.get_contents())\n",
    "        \n",
    "        "
   ]
  },
  {
   "cell_type": "code",
   "execution_count": 184,
   "id": "20e3902c-eec0-4262-9997-b3e80c692f95",
   "metadata": {},
   "outputs": [],
   "source": [
    "# Define a system prompt for link_filtering\n",
    "system_prompt_link_filtering = (\n",
    "    \"You are an intelligent assistant. You will be given a list of URLs from a specific website. \"\n",
    "    \"Your task is to select the links that are most useful for creating a brochure that represents the website's purpose, offerings, and key content. \"\n",
    "    \"Focus on links that highlight the company's services, products, mission, contact information, or any visually rich or informative sections.\"\n",
    ")\n",
    "system_prompt_link_filtering += \"You should respond in JSON as in this example:\"\n",
    "system_prompt_link_filtering += \"\"\"\n",
    "{\n",
    "    \"links\": [\n",
    "        {\"type\": \"about page\", \"url\": \"https://full.url/goes/here/about\"},\n",
    "        {\"type\": \"careers page\": \"url\": \"https://another.full.url/careers\"}\n",
    "    ]\n",
    "}\n",
    "\"\"\"\n",
    "\n",
    "# Define a user-prompt for link filtering\n",
    "def user_prompt_link_filtering(link): \n",
    "    Web_class = Website(link)\n",
    "    \n",
    "    prompt = (\n",
    "        f\"We are creating a brochure for the company titled: '{Web_class.title}'.\\n\\n\"\n",
    "        f\"Your task is to select the most relevant and helpful links from the list below to assist in designing the brochure.\\n\"\n",
    "        f\"Focus on pages that showcase the company's mission, services, products, key information, and visually rich or promotional content.\\n\\n\"\n",
    "        f\"respond with the full https URL in JSON format. Do not include Terms of Service, Privacy, email links.\\n\"\n",
    "        f\"Here are the available links:\\n{Web_class.links}\\n\\n\"\n",
    "        \"Please choose the links that would be most helpful for this purpose.\"\n",
    "    )\n",
    "    \n",
    "    return prompt\n"
   ]
  },
  {
   "cell_type": "code",
   "execution_count": 185,
   "id": "e32b9e40-25b3-4832-8ef3-9f54964a8226",
   "metadata": {},
   "outputs": [],
   "source": [
    "def message_link_filtering(link): \n",
    "    return [\n",
    "        {'role': 'system', 'content': system_prompt_link_filtering}, \n",
    "        {'role': 'user', 'content': user_prompt_link_filtering(link)}\n",
    "    ] \n",
    "\n",
    "# Example usage: \n",
    "#link = 'https://www.bbc.com'\n",
    "#message_link_filtering(link)"
   ]
  },
  {
   "cell_type": "code",
   "execution_count": 207,
   "id": "da1a941c-3326-4192-b86e-98628682c9ad",
   "metadata": {},
   "outputs": [],
   "source": [
    "def filtered_links(link): \n",
    "    response = openai.chat.completions.create(\n",
    "        model = MODEL, \n",
    "        messages = message_link_filtering(link), \n",
    "        response_format = {'type': 'json_object'}\n",
    "    )\n",
    "    return json.loads(response.choices[0].message.content)\n",
    "\n",
    "#links = filtered_links(link)\n",
    "#links "
   ]
  },
  {
   "cell_type": "code",
   "execution_count": 202,
   "id": "7fc9234e-8401-4e5b-95a6-3068e70be794",
   "metadata": {
    "scrolled": true
   },
   "outputs": [],
   "source": [
    "def get_all_contents(url):\n",
    "    result = \"Landing page:\\n\"\n",
    "    result += Website(url).get_contents()\n",
    "    links = filtered_links(url)\n",
    "    for link in links[\"links\"]:\n",
    "        result += f\"\\n\\n{link['type']}\\n\"\n",
    "        result += Website(link[\"url\"]).get_contents()\n",
    "    return result"
   ]
  },
  {
   "cell_type": "code",
   "execution_count": 192,
   "id": "bcb196bc-fd1b-4237-be36-edd7becaa707",
   "metadata": {},
   "outputs": [],
   "source": [
    "system_prompt = \"You are an assistant that analyzes the contents of several relevant pages from a company website \\\n",
    "and creates a short brochure about the company for prospective customers, investors and recruits. Respond in markdown.\\\n",
    "Include details of company culture, customers and careers/jobs if you have the information.\"\n",
    "\n",
    "# Or uncomment the lines below for a more humorous brochure - this demonstrates how easy it is to incorporate 'tone':\n",
    "\n",
    "# system_prompt = \"You are an assistant that analyzes the contents of several relevant pages from a company website \\\n",
    "# and creates a short humorous, entertaining, jokey brochure about the company for prospective customers, investors and recruits. Respond in markdown.\\\n",
    "# Include details of company culture, customers and careers/jobs if you have the information.\"\n"
   ]
  },
  {
   "cell_type": "code",
   "execution_count": 196,
   "id": "4dc4310c-59c4-4198-82ce-6935592bca36",
   "metadata": {
    "scrolled": true
   },
   "outputs": [],
   "source": [
    "def get_brochure_user_prompt(company_name, url):\n",
    "    user_prompt = f\"You are looking at a company called: {company_name}\\n\"\n",
    "    user_prompt += f\"Here are the contents of its landing page and other relevant pages; use this information to build a short brochure of the company in markdown.\\n\"\n",
    "    user_prompt += get_all_contents(url)\n",
    "    user_prompt = user_prompt[:5_000] # Truncate if more than 5,000 characters\n",
    "    return user_prompt\n",
    "\n",
    "#get_brochure_user_prompt('bbc_news',link)"
   ]
  },
  {
   "cell_type": "code",
   "execution_count": 200,
   "id": "89b17d6f-0ec6-42bf-8166-16aee5703264",
   "metadata": {},
   "outputs": [],
   "source": [
    "def create_brochure(company_name, url):\n",
    "    response = openai.chat.completions.create(\n",
    "        model=MODEL,\n",
    "        messages=[\n",
    "            {\"role\": \"system\", \"content\": system_prompt},\n",
    "            {\"role\": \"user\", \"content\": get_brochure_user_prompt(company_name, url)}\n",
    "          ],\n",
    "    )\n",
    "    result = response.choices[0].message.content\n",
    "    display(Markdown(result))\n",
    "    "
   ]
  },
  {
   "cell_type": "code",
   "execution_count": 203,
   "id": "0c639783-aeae-4f38-8d08-8242d8916021",
   "metadata": {},
   "outputs": [
    {
     "data": {
      "text/markdown": [
       "# Hugging Face Company Brochure\n",
       "\n",
       "## Welcome to Hugging Face\n",
       "\n",
       "At **Hugging Face**, we are building the future of artificial intelligence through community collaboration and innovative technologies aimed at enhancing machine learning. Join us in our mission to create an inclusive and collaborative environment that welcomes everyone from researchers and engineers to businesses and hobbyists.\n",
       "\n",
       "---\n",
       "\n",
       "## Our Offerings\n",
       "\n",
       "### **Explore AI Models & Datasets**\n",
       "- **Models**: Access over **1 million models** from leading developers to leverage in your AI projects, spanning various modalities - text, image, video, and more.\n",
       "- **Datasets**: Browse through more than **250,000 datasets** tailored for machine learning tasks.\n",
       "- **Spaces**: Discover applications created by the community with capabilities to generate any application or interact with AI agents.\n",
       "\n",
       "### **Enterprise Solutions**\n",
       "Hugging Face provides robust enterprise-grade solutions with features like:\n",
       "- Advanced security protocols\n",
       "- Dedicated support\n",
       "- Access controls\n",
       "- Optimized compute resources starting at $20/user/month\n",
       "\n",
       "Trusted by over **50,000 organizations**, including major players such as Google, Amazon, Microsoft, and Grammarly.\n",
       "\n",
       "---\n",
       "\n",
       "## Company Culture\n",
       "\n",
       "At Hugging Face, we foster a **collaborative and inclusive culture** that prioritizes open-source development and community engagement. We value transparency, innovation, and creativity in tackling challenges within the machine learning space. We believe that AI should be accessible to all, and we actively encourage contributions from developers and practitioners worldwide.\n",
       "\n",
       "---\n",
       "\n",
       "## Join Us! \n",
       "\n",
       "### **Careers**\n",
       "Looking to make an impact in the AI community? Hugging Face is always on the lookout for passionate individuals to join our team. Explore opportunities across various functions including engineering, product management, and community relations on our **Jobs** page.\n",
       "\n",
       "### **Community Engagement**\n",
       "Connect with like-minded individuals via our [forum](https://huggingface.co/forum), or follow us on social media platforms like [Twitter](https://twitter.com/huggingface), [LinkedIn](https://www.linkedin.com/company/huggingface/), and [Discord](https://discord.com/invite/huggingface) to stay updated on the latest trends, blog posts, and community events.\n",
       "\n",
       "---\n",
       "\n",
       "## Get Involved\n",
       "\n",
       "Whether you're an AI enthusiast, a business seeking enterprise solutions, or a developer eager to contribute to the open-source landscape, we welcome you to explore and engage with us. Together, let's shape the future of AI!\n",
       "\n",
       "**Sign Up** today at [Hugging Face](https://huggingface.co) and take your first step towards innovating the world of machine learning."
      ],
      "text/plain": [
       "<IPython.core.display.Markdown object>"
      ]
     },
     "metadata": {},
     "output_type": "display_data"
    }
   ],
   "source": [
    "create_brochure(\"HuggingFace\", \"https://huggingface.co\")"
   ]
  },
  {
   "cell_type": "code",
   "execution_count": 206,
   "id": "504a359f-1f6d-497b-96d1-082998beddd9",
   "metadata": {},
   "outputs": [
    {
     "data": {
      "text/markdown": [
       "# BBC News Brochure\n",
       "\n",
       "---\n",
       "\n",
       "## Welcome to BBC News\n",
       "\n",
       "The British Broadcasting Corporation, known as BBC, is a renowned global news organization providing trusted news coverage, in-depth analysis, and engaging features across various sectors. Our commitment to delivering accurate and impartial journalism has solidified our role as a leader in the media landscape.\n",
       "\n",
       "---\n",
       "\n",
       "## What We Cover\n",
       "\n",
       "At BBC News, we bring you coverage from around the globe, including:\n",
       "\n",
       "- **Breaking News**: Stay informed with the latest updates on critical global events.\n",
       "- **International News**: In-depth reporting from regions such as Africa, Asia, Europe, and the Americas.\n",
       "- **Sports**: Up-to-date news and live coverage of major sporting events, including the Premier League and international competitions.\n",
       "- **Business & Innovation**: Insights into market trends, banking, technology, and sustainable practices affecting businesses today.\n",
       "- **Culture & Arts**: Features on music, film, literature, and artistic expressions from diverse cultures worldwide.\n",
       "\n",
       "---\n",
       "\n",
       "## Company Culture\n",
       "\n",
       "At the BBC, we foster a culture rooted in integrity, creativity, and inclusivity. Our team is comprised of diverse individuals from various backgrounds, who collaborate to bring unparalleled news insights to our audiences. We prioritize the well-being of our employees and encourage professional growth through ongoing training and developmental opportunities.\n",
       "\n",
       "---\n",
       "\n",
       "## Join Our Team\n",
       "\n",
       "Are you passionate about journalism and media? The BBC is always on the lookout for dedicated individuals to join our vibrant team. Whether you are an experienced journalist, a digital media expert, or are interested in supporting roles, there is a place for you at the BBC. Visit our Careers page to explore current job openings and team initiatives.\n",
       "\n",
       "---\n",
       "\n",
       "## Connect With Us\n",
       "\n",
       "Stay updated with the latest from BBC News by following us on our social media platforms and subscribing to our newsletters. Your source for trust, innovation, and world-class journalism is right here—welcome to the BBC!\n",
       "\n",
       "---\n",
       "\n",
       "**Contact Us:**  \n",
       "Email: info@bbc.co.uk  \n",
       "Website: [bbc.co.uk/news](https://www.bbc.co.uk/news)  \n",
       "Social Media: [Twitter](https://twitter.com/BBCNews) | [Facebook](https://www.facebook.com/bbcnews) | [Instagram](https://www.instagram.com/bbcnews)  \n",
       "\n",
       "--- \n",
       "\n",
       "We look forward to welcoming you to the BBC community!"
      ],
      "text/plain": [
       "<IPython.core.display.Markdown object>"
      ]
     },
     "metadata": {},
     "output_type": "display_data"
    }
   ],
   "source": [
    "create_brochure(\"BBC NEWS\", \"https://www.bbc.com/\")"
   ]
  }
 ],
 "metadata": {
  "kernelspec": {
   "display_name": "Python 3 (ipykernel)",
   "language": "python",
   "name": "python3"
  },
  "language_info": {
   "codemirror_mode": {
    "name": "ipython",
    "version": 3
   },
   "file_extension": ".py",
   "mimetype": "text/x-python",
   "name": "python",
   "nbconvert_exporter": "python",
   "pygments_lexer": "ipython3",
   "version": "3.11.12"
  }
 },
 "nbformat": 4,
 "nbformat_minor": 5
}
