{
 "cells": [
  {
   "cell_type": "code",
   "execution_count": 16,
   "id": "6f484aa4-c2e2-407c-8df8-24e06f2dd18a",
   "metadata": {},
   "outputs": [],
   "source": [
    "import os\n",
    "import requests\n",
    "from bs4 import BeautifulSoup\n",
    "import openai\n",
    "from telegram import Update, Bot\n",
    "from telegram.ext import ApplicationBuilder, CommandHandler, MessageHandler, ContextTypes, filters\n",
    "from dotenv import load_dotenv\n",
    "import nest_asyncio"
   ]
  },
  {
   "cell_type": "code",
   "execution_count": 17,
   "id": "d35f4e1c-6fba-4ee0-b3dc-c1798681e312",
   "metadata": {},
   "outputs": [],
   "source": [
    "# Load environment variables\n",
    "load_dotenv()\n",
    "OPENAI_API_KEY = os.getenv(\"OPENAI_API_KEY\")\n",
    "TELEGRAM_BOT_TOKEN = os.getenv(\"TELEGRAM_BOT_TOKEN\")\n",
    "TELEGRAM_CHAT_ID = os.getenv(\"TELEGRAM_CHAT_ID\")\n",
    "\n",
    "openai.api_key = OPENAI_API_KEY\n"
   ]
  },
  {
   "cell_type": "code",
   "execution_count": 18,
   "id": "2ecbf460-8487-4744-96cf-4bbe32de0e5d",
   "metadata": {},
   "outputs": [],
   "source": [
    "def fetch_bbc_news():\n",
    "    url = \"https://www.bbc.com/news\"\n",
    "    headers = {\n",
    "        \"User-Agent\": \"Mozilla/5.0 (Windows NT 10.0; Win64; x64) AppleWebKit/537.36 (KHTML, like Gecko) Chrome/117.0.0.0 Safari/537.36\"\n",
    "    }\n",
    "    response = requests.get(url, headers=headers)\n",
    "    soup = BeautifulSoup(response.content, \"html.parser\")\n",
    "\n",
    "    articles = []\n",
    "    for h2 in soup.find_all(\"h2\", attrs={\"data-testid\": \"card-headline\"}):\n",
    "        title = h2.get_text(strip=True)\n",
    "\n",
    "        # Try to find the <a> tag associated with the headline\n",
    "        a_tag = h2.find_parent(\"a\")\n",
    "        if not a_tag:\n",
    "            a_tag = h2.find_next(\"a\")\n",
    "\n",
    "        if a_tag and a_tag.has_attr(\"href\"):\n",
    "            href = a_tag[\"href\"]\n",
    "            link = \"https://www.bbc.com\" + href if href.startswith(\"/\") else href\n",
    "\n",
    "            # Fetch and extract article text\n",
    "            try:\n",
    "                article_response = requests.get(link, headers=headers)\n",
    "                article_soup = BeautifulSoup(article_response.content, \"html.parser\")\n",
    "                paragraphs = article_soup.find_all(\"p\")\n",
    "                content = \"\\n\".join(p.get_text(strip=True) for p in paragraphs)\n",
    "                if content:\n",
    "                    articles.append({\n",
    "                        \"title\": title,\n",
    "                        \"link\": link,\n",
    "                        \"content\": content\n",
    "                    })\n",
    "            except Exception as e:\n",
    "                print(f\"Error fetching article: {e}\")\n",
    "\n",
    "        if len(articles) >= 3:\n",
    "            break\n",
    "\n",
    "    return articles\n"
   ]
  },
  {
   "cell_type": "code",
   "execution_count": 19,
   "id": "bf43eb4c-987c-48e6-b1f1-35f4f301d1ce",
   "metadata": {},
   "outputs": [],
   "source": [
    "system_prompt = (\n",
    "    \"You are an assistant that receives the contents of a news website and its title; \"\n",
    "    \"your task is to summarize the contents of the website.\"\n",
    ")\n",
    "\n",
    "def define_user_prompt(article): \n",
    "    user_prompt = f\"You are given the news website titled: {article['title']}\\n\"\n",
    "    user_prompt += (\n",
    "        \"The contents of the website are as follows; please provide \"\n",
    "        \"a summary of the news website in less than 100 words. \\n\\n\"\n",
    "    )\n",
    "    user_prompt += article['content']\n",
    "    return user_prompt \n",
    "\n",
    "def openai_message(article): \n",
    "    return [\n",
    "        {'role': 'system', 'content': system_prompt},\n",
    "        {'role': 'user', 'content': define_user_prompt(article)}\n",
    "    ]\n"
   ]
  },
  {
   "cell_type": "code",
   "execution_count": 20,
   "id": "d5b310b4-8091-4c9a-a309-972681b4049f",
   "metadata": {},
   "outputs": [],
   "source": [
    "# TASK -- Pass the message to an OpenAI model and extract the completion \n",
    "def summarize(article): \n",
    "    response = openai.chat.completions.create(\n",
    "        model = 'gpt-4o-mini', \n",
    "        messages = openai_message(article)\n",
    "        )\n",
    "    return response.choices[0].message.content\n",
    "\n",
    "# Example usage\n",
    "#url_summary = summarize(article)\n"
   ]
  },
  {
   "cell_type": "code",
   "execution_count": 42,
   "id": "59d01d5e-086f-4478-b000-d406d7fc2bb2",
   "metadata": {
    "scrolled": true
   },
   "outputs": [
    {
     "name": "stdout",
     "output_type": "stream",
     "text": [
      "The news article highlights the comments made by U.S. diplomat Marco Rubio regarding the upcoming peace talks between Ukraine and Russia scheduled to take place in Istanbul, Turkey. Rubio expresses skepticism about the potential for significant progress in these negotiations without direct interaction between former U.S. President Donald Trump and Russian President Vladimir Putin. Both Rubio and Trump noted that effective dialogue is contingent upon a meeting between the two leaders. \n",
      "\n",
      "Ukrainian President Volodymyr Zelensky confirmed that Ukraine would send a delegation to the talks but criticized Russia's \"low-level\" delegation, headed by presidential aide Vladimir Medinsky, as disrespectful to both President Trump and Turkish President Recep Tayyip Erdoğan. Zelensky challenged Putin to a personal meeting, emphasizing the lack of high-level representation from the Kremlin as a sign of disrespect.\n",
      "\n",
      "The Turkish, U.S., Ukrainian, and Russian delegations had been set to meet in Istanbul for the first face-to-face discussions since 2022, though no specific timing had been announced as of Thursday evening. Putin had previously proposed direct talks as part of an effort to establish a ceasefire, while the Russian delegation viewed the upcoming negotiations as a continuation of unsuccessful talks from 2022. \n",
      "\n",
      "The discussions reportedly involve contentious terms proposed by Russia, which Ukraine has consistently rejected, including demands for neutrality and a reduction of its military capabilities. Despite ongoing fighting and Russia's territorial gains in eastern Ukraine, there is cautious optimism regarding these upcoming negotiations. UK Defence Minister John Healey called for increased pressure on Putin from Ukraine's allies, suggesting further sanctions to facilitate a return to the negotiation table.\n",
      "\n",
      "The article concludes by depicting the current atmosphere in eastern Ukraine and the challenges faced by civilians, including increased xenophobia and violence amid ongoing conflict.\n"
     ]
    }
   ],
   "source": [
    "print(url_summary)"
   ]
  },
  {
   "cell_type": "code",
   "execution_count": null,
   "id": "f2c8b1d5-2d83-4208-a562-f4e62ae8fac0",
   "metadata": {
    "scrolled": true
   },
   "outputs": [
    {
     "name": "stdout",
     "output_type": "stream",
     "text": [
      "Bot started...\n"
     ]
    }
   ],
   "source": [
    "nest_asyncio.apply()\n",
    "# Telegram handler to respond to \"news\" messages\n",
    "async def news_handler(update: Update, context: ContextTypes.DEFAULT_TYPE):\n",
    "    msg_text = update.message.text.lower()\n",
    "    if \"news\" in msg_text:\n",
    "        await update.message.reply_text(\"Fetching the latest BBC news and summarizing...\")\n",
    "        articles = fetch_bbc_news()\n",
    "        summaries = []\n",
    "        for article in articles:\n",
    "            try:\n",
    "                summary = summarize(article)  # Assuming summarize is async and takes article as param\n",
    "                summaries.append(f\"*{article['title']}*\\n{article['link']}\\n{summary}\\n\\n\")\n",
    "            except Exception as e:\n",
    "                summaries.append(f\"Could not summarize article '{article['title']}': {e}\\n\\n\")\n",
    "        reply_text = \"\\n\".join(summaries) or \"Sorry, no news articles found.\"\n",
    "        await update.message.reply_text(reply_text, parse_mode='Markdown')\n",
    "    else:\n",
    "        await update.message.reply_text(\"Hi! Send me a message containing the word 'news' to get BBC news summaries.\")\n",
    "\n",
    "\n",
    "# Optional: start command\n",
    "async def start(update: Update, context: ContextTypes.DEFAULT_TYPE):\n",
    "    await update.message.reply_text(\"Hi! Send me a message containing the word 'news' and I'll fetch summaries from BBC News for you.\")\n",
    "\n",
    "def main():\n",
    "    app = ApplicationBuilder().token(TELEGRAM_BOT_TOKEN).build()\n",
    "\n",
    "    # Command handler for /start\n",
    "    app.add_handler(CommandHandler(\"start\", start))\n",
    "\n",
    "    # Message handler for messages containing \"news\" (case insensitive)\n",
    "    app.add_handler(MessageHandler(filters.TEXT & (~filters.COMMAND), news_handler))\n",
    "\n",
    "    print(\"Bot started...\")\n",
    "    app.run_polling(close_loop=False)\n",
    "\n",
    "if __name__ == \"__main__\":\n",
    "    main()"
   ]
  }
 ],
 "metadata": {
  "kernelspec": {
   "display_name": "Python 3 (ipykernel)",
   "language": "python",
   "name": "python3"
  },
  "language_info": {
   "codemirror_mode": {
    "name": "ipython",
    "version": 3
   },
   "file_extension": ".py",
   "mimetype": "text/x-python",
   "name": "python",
   "nbconvert_exporter": "python",
   "pygments_lexer": "ipython3",
   "version": "3.11.12"
  }
 },
 "nbformat": 4,
 "nbformat_minor": 5
}
