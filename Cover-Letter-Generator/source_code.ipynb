{
 "cells": [
  {
   "cell_type": "code",
   "execution_count": 1,
   "id": "dc6c3352-bba5-4a67-9301-7aa8dcf1490a",
   "metadata": {},
   "outputs": [],
   "source": [
    "# imports\n",
    "import os\n",
    "import requests\n",
    "import json\n",
    "from typing import List\n",
    "from dotenv import load_dotenv\n",
    "from bs4 import BeautifulSoup\n",
    "from IPython.display import Markdown, display, update_display\n",
    "from openai import OpenAI\n",
    "from IPython.display import Markdown, display, update_display\n",
    "import fitz  # PyMuPDF"
   ]
  },
  {
   "cell_type": "code",
   "execution_count": 2,
   "id": "ed511ac4-4e4b-43ee-bbd5-d64f8e00a4fa",
   "metadata": {},
   "outputs": [],
   "source": [
    "# Set up the environment \n",
    "load_dotenv(override = True)\n",
    "api_key = os.getenv('OPENAI_API_KEY')\n",
    "\n",
    "# Define the model \n",
    "MODEL = 'gpt-4o-mini'\n",
    "openai = OpenAI()"
   ]
  },
  {
   "cell_type": "code",
   "execution_count": 3,
   "id": "e8eb8f6d-067a-4428-95ca-1ad3d2a4d901",
   "metadata": {
    "scrolled": true
   },
   "outputs": [],
   "source": [
    "\n",
    "# Headers to mimic a real browser\n",
    "headers = {\n",
    "    \"User-Agent\": \"Mozilla/5.0 (Windows NT 10.0; Win64; x64) AppleWebKit/537.36 (KHTML, like Gecko) Chrome/117.0.0.0 Safari/537.36\"\n",
    "}\n",
    "\n",
    "class JobPage:\n",
    "    \"\"\"\n",
    "    Extracts job description from a company job listing page.\n",
    "    \"\"\"\n",
    "    def __init__(self, url):\n",
    "        self.url = url\n",
    "        self.job_description = \"\"\n",
    "        self._fetch_description()\n",
    "\n",
    "    def _fetch_description(self):\n",
    "        response = requests.get(self.url, headers=headers)\n",
    "        soup = BeautifulSoup(response.content, 'html.parser')\n",
    "\n",
    "        # Try known class names / tags commonly used for job descriptions\n",
    "        possible_selectors = [\n",
    "            {\"name\": \"div\", \"class_\": \"job-description\"},\n",
    "            {\"name\": \"section\", \"class_\": \"job-description\"},\n",
    "            {\"name\": \"div\", \"class_\": \"content\"},\n",
    "            {\"name\": \"div\", \"class_\": \"ats-description\"},\n",
    "            {\"name\": \"div\", \"id\": \"job-details\"},\n",
    "            {\"name\": \"div\", \"class_\": \"job-details\"},\n",
    "        ]\n",
    "\n",
    "        for selector in possible_selectors:\n",
    "            desc = soup.find(selector.get(\"name\"), class_=selector.get(\"class_\"), id=selector.get(\"id\"))\n",
    "            if desc:\n",
    "                self.job_description = desc.get_text(separator=\"\\n\", strip=True)\n",
    "                break\n",
    "\n",
    "        # Fallback: remove irrelevant tags and extract main body text\n",
    "        if not self.job_description and soup.body:\n",
    "            for tag in soup.body([\"script\", \"style\", \"img\", \"input\"]):\n",
    "                tag.decompose()\n",
    "            self.job_description = soup.body.get_text(separator=\"\\n\", strip=True)\n",
    "\n",
    "    def get_job_description(self):\n",
    "        return self.job_description\n",
    "\n",
    "\n",
    "# Example usage:\n",
    "link = 'https://careers.telus.com/job/Terrace-Manager-Community-&-Service-Excellence-Terrace-BC/590496617/'\n",
    "#job = JobPage(link)\n",
    "#print(\"\\nJob Description:\\n\")\n",
    "#print(job.get_job_description())\n"
   ]
  },
  {
   "cell_type": "code",
   "execution_count": 4,
   "id": "d499010c-b7bf-410f-b349-b51383f7ffe8",
   "metadata": {},
   "outputs": [],
   "source": [
    "def load_resume_pdf(path):\n",
    "    doc = fitz.open(path)\n",
    "    return \"\\n\".join([page.get_text() for page in doc])\n",
    "\n",
    "resume_text = load_resume_pdf(\"Mat_Imaginary_Resume.pdf\")\n"
   ]
  },
  {
   "cell_type": "code",
   "execution_count": 5,
   "id": "865cd7cf-3c06-4cae-97e5-50bf22dd2680",
   "metadata": {},
   "outputs": [],
   "source": [
    "# Define a system prompt \n",
    "system_prompt_cover_letter = (\n",
    "    \"You are a professional career assistant. You will be given a job description and a candidate's resume. \"\n",
    "    \"Your task is to write a personalized cover letter explaining why the candidate is a great fit for the position. \"\n",
    "    \"Use a tone that is professional, confident, and tailored to the job role. \"\n",
    "    \"Base the letter only on information provided in the resume and job description. \"\n",
    "    \"Highlight the most relevant experiences, skills, and accomplishments that align with the job. \"\n",
    "    \"Avoid generic statements; be specific and targeted.\"\n",
    "    \"Respond in markdown\"\n",
    ")\n",
    "\n",
    "\n",
    "# Define a user-prompt \n",
    "def user_prompt_cover_letter(url, resume_text):\n",
    "    job_description = JobPage(url).get_job_description()\n",
    "    prompt = (\n",
    "        f\"Job Description:\\n{job_description}\\n\\n\"\n",
    "        f\"Candidate Resume:\\n{resume_text}\\n\\n\"\n",
    "        \"Please write a customized cover letter explaining why this candidate is a great fit for the role, \"\n",
    "        \"based on the job description and their professional experience. \"\n",
    "        \"The letter should be concise (3-5 paragraphs), engaging, and demonstrate alignment with the job requirements.\"\n",
    "    )\n",
    "    return prompt\n"
   ]
  },
  {
   "cell_type": "code",
   "execution_count": 6,
   "id": "baff8d6f-3431-4182-93fa-74d02d7d4fa6",
   "metadata": {
    "scrolled": true
   },
   "outputs": [],
   "source": [
    "def message_cover_letter(url,resume_text): \n",
    "    return [\n",
    "        {'role': 'system', 'content': system_prompt_cover_letter}, \n",
    "        {'role': 'user', 'content': user_prompt_cover_letter(url,resume_text)[:20_000]}\n",
    "    ] \n",
    "\n",
    "# Example usage: \n",
    "#link = 'https://careers.telus.com/job/Terrace-Manager-Community-&-Service-Excellence-Terrace-BC/590496617/'\n",
    "#message_cover_letter(link, resume_text)"
   ]
  },
  {
   "cell_type": "code",
   "execution_count": 7,
   "id": "b94b6c39-bf26-4002-9985-f43c99cfbed3",
   "metadata": {},
   "outputs": [],
   "source": [
    "def create_cover_letter(url, resume_text): \n",
    "    response = openai.chat.completions.create(\n",
    "        model = MODEL, \n",
    "        messages = message_cover_letter(url,resume_text)\n",
    "    )\n",
    "    return response.choices[0].message.content"
   ]
  },
  {
   "cell_type": "code",
   "execution_count": 8,
   "id": "49049fd8-8eff-49ed-a5d6-43779f61cdd0",
   "metadata": {},
   "outputs": [],
   "source": [
    "def stream_cover_letter(url, resume_text):\n",
    "    stream = openai.chat.completions.create(\n",
    "        model=MODEL,\n",
    "        messages= message_cover_letter(url,resume_text), \n",
    "        stream=True\n",
    "    )\n",
    "    response = \"\"\n",
    "    display_handle = display(Markdown(\"\"), display_id=True)\n",
    "    for chunk in stream:\n",
    "        response += chunk.choices[0].delta.content or ''\n",
    "        response = response.replace(\"```\",\"\").replace(\"markdown\", \"\")\n",
    "        update_display(Markdown(response), display_id=display_handle.display_id)"
   ]
  },
  {
   "cell_type": "code",
   "execution_count": 9,
   "id": "e22f170c-971e-46fe-8ef1-d1cec6c1b76e",
   "metadata": {},
   "outputs": [
    {
     "data": {
      "text/markdown": [
       "\n",
       "[Your Name]  \n",
       "[Your Address]  \n",
       "[Your City, State, Zip]  \n",
       "[Your Email]  \n",
       "[Your Phone Number]  \n",
       "[Date]  \n",
       "\n",
       "Hiring Manager  \n",
       "TELUS  \n",
       "Terrace, BC, CA  \n",
       "\n",
       "Dear Hiring Manager,\n",
       "\n",
       "I am excited to submit my application for the Manager - Community & Service Excellence position at TELUS, as I believe my background in product management and team leadership aligns closely with the requirements outlined in your job description. With five years of experience at IBM, where I successfully managed cross-functional teams and drove product strategy, I am confident in my ability to lead and mentor your team while ensuring exceptional service delivery within the community.\n",
       "\n",
       "In my current role as Product Manager & Team Lead, I have demonstrated strong leadership by guiding a team of 12 engineers and designers to develop AI-powered applications. My experience leading agile transformations has not only increased delivery efficiency by 30% but has also instilled a culture of continuous improvement among my colleagues. I am adept at inspiring my team to excel, fostering talent development and driving operational rigor—key elements that are essential for the role you seek to fill. \n",
       "\n",
       "Additionally, my ability to build strategic relationships with stakeholders has been pivotal in aligning project objectives with customer needs. I have a proven track record of conducting comprehensive competitive analyses and user research, leading to enhancements that drive customer satisfaction and engagement. This aligns perfectly with TELUS’s commitment to community ownership and the expectation to manage operational demands effectively while emphasizing safety and performance.\n",
       "\n",
       "I am particularly drawn to TELUS’s vision of integrating community engagement with business success. My desire to drive outcomes for the community and my passion for technology solutions position me as an ideal candidate who can represent TELUS’s values and elevate the brand. I am eager to contribute to a high-performance culture that inspires both team members and customers alike.\n",
       "\n",
       "Thank you for considering my application. I look forward to discussing how my experience and vision can contribute to TELUS's mission of delivering unparalleled customer service excellence.\n",
       "\n",
       "Warm regards,\n",
       "\n",
       "Mat Imaginary  \n",
       "mat.imaginary@example.com  \n",
       "(555) 123-4567  \n",
       "\n"
      ],
      "text/plain": [
       "<IPython.core.display.Markdown object>"
      ]
     },
     "metadata": {},
     "output_type": "display_data"
    }
   ],
   "source": [
    "link = 'https://careers.telus.com/job/Terrace-Manager-Community-&-Service-Excellence-Terrace-BC/590496617/'\n",
    "stream_cover_letter(link,resume_text)"
   ]
  }
 ],
 "metadata": {
  "kernelspec": {
   "display_name": "Python 3 (ipykernel)",
   "language": "python",
   "name": "python3"
  },
  "language_info": {
   "codemirror_mode": {
    "name": "ipython",
    "version": 3
   },
   "file_extension": ".py",
   "mimetype": "text/x-python",
   "name": "python",
   "nbconvert_exporter": "python",
   "pygments_lexer": "ipython3",
   "version": "3.11.12"
  }
 },
 "nbformat": 4,
 "nbformat_minor": 5
}
